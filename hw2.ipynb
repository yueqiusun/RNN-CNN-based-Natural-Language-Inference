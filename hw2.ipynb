{
 "cells": [
  {
   "cell_type": "code",
   "execution_count": 1,
   "metadata": {
    "scrolled": true
   },
   "outputs": [
    {
     "name": "stdout",
     "output_type": "stream",
     "text": [
      "sentence1\tsentence2\tlabel\r\n",
      "A young girl in a pink shirt sitting on a dock viewing a body of water .\tA young girl watching the sunset over the water .\tneutral\r\n",
      "A woman is smiling while the man next to her is focused on a blue object with a pattern on it .\tTwo people are next to each other .\tentailment\r\n",
      "Across the river , you can see a large building .\tThe large building is full of apartments and tenants\tneutral\r\n",
      "a man in white shorts and a black shirt is paragliding on the ocean\tA man is riding a jetski on the ocean .\tcontradiction\r\n",
      "Four black dogs run together on bright green grass .\tFour dogs are preparing to be launched into space .\tcontradiction\r\n",
      "A female laying on her stomach in the water outside with umbrellas .\tThere is a women outdoors\tentailment\r\n",
      "Children eat at a long table with black chairs .\tKids at a short table with red chairs .\tcontradiction\r\n",
      "A person rides a motorcycle quickly .\tThe man is racing his motorcycle in a race .\tneutral\r\n",
      "Woman riding a red bicycle down a city street , with a few people in the background .\tperson riding a bike\tentailment\r\n"
     ]
    }
   ],
   "source": [
    "!head ./hw2_data/snli_train.tsv"
   ]
  },
  {
   "cell_type": "code",
   "execution_count": 2,
   "metadata": {},
   "outputs": [
    {
     "name": "stdout",
     "output_type": "stream",
     "text": [
      "cpu\n"
     ]
    }
   ],
   "source": [
    "# First lets improve libraries that we are going to be used in this lab session\n",
    "import numpy as np\n",
    "import torch\n",
    "import torch.nn as nn\n",
    "import torch.nn.functional as F\n",
    "from torch.utils.data import Dataset\n",
    "from collections import Counter\n",
    "import pickle as pkl\n",
    "import random\n",
    "import pdb\n",
    "random.seed(134)\n",
    "\n",
    "from bagofwords import BagOfWords\n",
    "from hyperparameter import Hyperparameter as hp\n",
    "\n",
    "\n",
    "import re\n",
    " \n",
    "from train_f import *\n",
    "%load_ext autoreload\n",
    "%autoreload 2\n",
    "\n",
    "device = torch.device('cuda:0' if torch.cuda.is_available() else 'cpu')\n",
    "print(device)\n",
    "\n",
    "PAD_IDX = 0\n",
    "UNK_IDX = 1\n",
    "BATCH_SIZE = 100"
   ]
  },
  {
   "cell_type": "code",
   "execution_count": 3,
   "metadata": {
    "collapsed": true
   },
   "outputs": [],
   "source": [
    "def build_all_tokens(inp1, inp2):\n",
    "    all_tokens = []\n",
    "    for sent in inp1:\n",
    "        for x in sent:\n",
    "            all_tokens.append(x)   \n",
    "    for sent in inp2:\n",
    "        for x in sent:\n",
    "            all_tokens.append(x)    \n",
    "    \n",
    "    return all_tokens\n",
    "    \n",
    "def read_data(filename, count = 9999999):\n",
    "    x1 = []\n",
    "    x2 = []\n",
    "    y = []\n",
    "    x1_w = []\n",
    "    x2_w = []\n",
    "    raw_data = []\n",
    "    filename =hp.prepath_data + filename\n",
    "    len_list = []\n",
    "    with open(filename, \"r\") as f:\n",
    "\n",
    "        line_num = 0\n",
    "        line = f.readline()\n",
    "        line = f.readline()\n",
    "        while line != None and line != \"\" and line_num<count:\n",
    "            line = line.lower()\n",
    "            arr = line.split('\\t')\n",
    "            #list of length of  sentences\n",
    "            x1.append(arr[0])\n",
    "            x2.append(arr[1])\n",
    "            y.append(hp.dummy2int[arr[2][:-1]])\n",
    "            line_num += 1\n",
    "            raw_data.append(line)\n",
    "            line = f.readline()\n",
    "        x1_w = [line.split() for line in x1]\n",
    "        x2_w = [line.split() for line in x2]\n",
    "        len_list = [len(line.split()) for line in x1]\n",
    "        len_list += [len(line.split()) for line in x2]\n",
    "        # take the 99 precentile of the length, let it be maximum sentence length\n",
    "        if count < 1000:\n",
    "            MAX_SENTENCE_LENGTH = sorted(len_list, reverse = True)[0]\n",
    "        else:\n",
    "            MAX_SENTENCE_LENGTH = sorted(len_list, reverse = True)[1000]\n",
    "        a = sorted(len_list, reverse = True)\n",
    "        \n",
    "        all_tokens = build_all_tokens(x1_w, x2_w)\n",
    "    return x1_w, x2_w, y, MAX_SENTENCE_LENGTH, all_tokens\n"
   ]
  },
  {
   "cell_type": "code",
   "execution_count": 4,
   "metadata": {
    "collapsed": true
   },
   "outputs": [],
   "source": [
    "#count = 10000\n",
    "count = 9999999999\n",
    "train_x1, train_x2, train_y, MAX_SENTENCE_LENGTH, all_train_tokens  = read_data('snli_train.tsv', count = count)\n",
    "val_x1, val_x2, val_y, _, _ = read_data('snli_val.tsv', count = count)"
   ]
  },
  {
   "cell_type": "code",
   "execution_count": 5,
   "metadata": {
    "collapsed": true
   },
   "outputs": [],
   "source": [
    "from collections import Counter\n",
    "\n",
    "max_vocab_size = 20000\n",
    "# save index 0 for unk and 1 for pad\n",
    "PAD_IDX = 0\n",
    "UNK_IDX = 1\n",
    "\n",
    "def build_vocab(all_tokens):\n",
    "    # Returns:\n",
    "    # id2token: list of tokens, where id2token[i] returns token that corresponds to token i\n",
    "    # token2id: dictionary where keys represent tokens and corresponding values represent indices\n",
    "    token_counter = Counter(all_tokens)\n",
    "    vocab, count = zip(*token_counter.most_common(max_vocab_size))\n",
    "    id2token = list(vocab)\n",
    "    token2id = dict(zip(vocab, range(2,2+len(vocab)))) \n",
    "    id2token = ['<pad>', '<unk>'] + id2token\n",
    "    token2id['<pad>'] = PAD_IDX \n",
    "    token2id['<unk>'] = UNK_IDX\n",
    "    return token2id, id2token\n",
    "\n",
    "token2id, id2token = build_vocab(all_train_tokens)"
   ]
  },
  {
   "cell_type": "code",
   "execution_count": 6,
   "metadata": {},
   "outputs": [
    {
     "name": "stdout",
     "output_type": "stream",
     "text": [
      "Train dataset 1 size is 100000\n",
      "Train dataset 2 size is 100000\n",
      "Val dataset 1 size is 1000\n",
      "Val dataset 2 size is 1000\n"
     ]
    }
   ],
   "source": [
    "# convert token to id in the dataset\n",
    "def token2index_dataset(tokens_data):\n",
    "    indices_data = []\n",
    "    for tokens in tokens_data:\n",
    "        index_list = [token2id[token] if token in token2id else UNK_IDX for token in tokens]\n",
    "        indices_data.append(index_list)\n",
    "    return indices_data\n",
    "\n",
    "train_x1_indices = token2index_dataset(train_x1)\n",
    "train_x2_indices = token2index_dataset(train_x2)\n",
    "val_x1_indices = token2index_dataset(val_x1)\n",
    "val_x2_indices = token2index_dataset(val_x2)\n",
    "\n",
    "# double checking\n",
    "print (\"Train dataset 1 size is {}\".format(len(train_x1_indices)))\n",
    "print (\"Train dataset 2 size is {}\".format(len(train_x2_indices)))\n",
    "print (\"Val dataset 1 size is {}\".format(len(val_x1_indices)))\n",
    "print (\"Val dataset 2 size is {}\".format(len(val_x2_indices)))\n",
    "\n"
   ]
  },
  {
   "cell_type": "code",
   "execution_count": 7,
   "metadata": {
    "collapsed": true
   },
   "outputs": [],
   "source": [
    "ft_home = './'\n",
    "words_to_load = 50000\n",
    "emb_dim =  300\n",
    "\n",
    "with open(ft_home + 'wiki-news-300d-1M.vec') as f:\n",
    "    loaded_embeddings_ft = np.zeros((len(id2token), emb_dim))\n",
    "    words_ft = {}\n",
    "    idx2words_ft = {}\n",
    "    ordered_words_ft = []\n",
    "    for i, line in enumerate(f):\n",
    "        if i >= words_to_load: \n",
    "            break\n",
    "        s = line.split()\n",
    "        #if the word in vocabulary is in fasttext, we load the embedding for that word.\n",
    "        if s[0] in token2id:\n",
    "            idx = token2id[s[0]]\n",
    "            loaded_embeddings_ft[idx] = np.asarray(s[1:])\n",
    "        "
   ]
  },
  {
   "cell_type": "code",
   "execution_count": 8,
   "metadata": {
    "collapsed": true
   },
   "outputs": [],
   "source": [
    "#if the word in vocabulary is not in fasttext(include unk and pad), we initialize a random vector.\n",
    "mask_emb = np.zeros(len(id2token))\n",
    "for i in range(len(id2token)):\n",
    "    if loaded_embeddings_ft[i][0] == 0:\n",
    "        mask_emb[i] = 1\n",
    "        loaded_embeddings_ft[i] = np.zeros((emb_dim, ))"
   ]
  },
  {
   "cell_type": "code",
   "execution_count": 9,
   "metadata": {
    "collapsed": true
   },
   "outputs": [],
   "source": [
    "import numpy as np\n",
    "import torch\n",
    "from torch.utils.data import Dataset\n",
    "class SNLIDataset(Dataset):\n",
    "    \"\"\"\n",
    "    Class that represents a train/validation/test dataset that's readable for PyTorch\n",
    "    Note that this class inherits torch.utils.data.Dataset\n",
    "    \"\"\"\n",
    "    \n",
    "    def __init__(self, data_list1, data_list2,target_list):\n",
    "        \"\"\"\n",
    "        @param data_list: list of SNLI tokens \n",
    "        @param target_list: list of SNLI targets \n",
    "\n",
    "        \"\"\"\n",
    "        self.data_list1 = data_list1\n",
    "        self.data_list2 = data_list2\n",
    "        self.target_list = target_list\n",
    "        assert (len(self.data_list1) == len(self.target_list))\n",
    "\n",
    "    def __len__(self):\n",
    "        return len(self.data_list1)\n",
    "        \n",
    "    def __getitem__(self, key):\n",
    "        \"\"\"\n",
    "        Triggered when you call dataset[i]\n",
    "        \"\"\"\n",
    "        \n",
    "        token_idx1 = self.data_list1[key][:MAX_SENTENCE_LENGTH]\n",
    "        token_idx2 = self.data_list2[key][:MAX_SENTENCE_LENGTH]\n",
    "        label = self.target_list[key]\n",
    "        return [token_idx1, token_idx2, len(token_idx1), len(token_idx2),label]\n",
    "\n",
    "def SNLI_collate_func(batch):\n",
    "    \"\"\"\n",
    "    Customized function for DataLoader that dynamically pads the batch so that all \n",
    "    data have the same length\n",
    "    \"\"\"\n",
    "    data_list1 = []\n",
    "    data_list2 = []\n",
    "    label_list = []\n",
    "    length_list1 = []\n",
    "    length_list2 = []\n",
    "    #print(\"collate batch: \", batch[0][0])\n",
    "    #batch[0][0] = batch[0][0][:MAX_SENTENCE_LENGTH]\n",
    "    for datum in batch:\n",
    "        label_list.append(datum[4])\n",
    "        length_list1.append(datum[2])\n",
    "        length_list2.append(datum[3])\n",
    "    # padding\n",
    "    for datum in batch:\n",
    "        padded_vec1 = np.pad(np.array(datum[0]), \n",
    "                                pad_width=((0,MAX_SENTENCE_LENGTH-datum[2])), \n",
    "                                mode=\"constant\", constant_values=0)\n",
    "        padded_vec2 = np.pad(np.array(datum[1]), \n",
    "                                pad_width=((0,MAX_SENTENCE_LENGTH-datum[3])), \n",
    "                                mode=\"constant\", constant_values=0)\n",
    "        data_list1.append(padded_vec1)\n",
    "        data_list2.append(padded_vec2)\n",
    "    \n",
    "    #transform labels to one hot label to fit into cross-entropy loss\n",
    "    # define example\n",
    "    \n",
    "    \n",
    "    \n",
    "    return [torch.from_numpy(np.array(data_list1)), torch.from_numpy(np.array(data_list2)),\n",
    "            torch.LongTensor(length_list1), torch.LongTensor(length_list2),torch.LongTensor(label_list)]\n",
    "\n",
    "BATCH_SIZE = 100\n",
    "train_dataset = SNLIDataset(train_x1_indices, train_x2_indices,train_y)\n",
    "train_loader = torch.utils.data.DataLoader(dataset=train_dataset, \n",
    "                                           batch_size=BATCH_SIZE,\n",
    "                                           collate_fn=SNLI_collate_func,\n",
    "                                           shuffle=True)\n",
    "\n",
    "val_dataset = SNLIDataset(val_x1_indices, val_x2_indices, val_y)\n",
    "val_loader = torch.utils.data.DataLoader(dataset=val_dataset, \n",
    "                                           batch_size=BATCH_SIZE,\n",
    "                                           collate_fn=SNLI_collate_func,\n",
    "                                           shuffle=True)"
   ]
  },
  {
   "cell_type": "code",
   "execution_count": 10,
   "metadata": {
    "collapsed": true
   },
   "outputs": [],
   "source": [
    "def create_emb_layer(weights_matrix, non_trainable=False):\n",
    "    weights_matrix = torch.from_numpy(weights_matrix)\n",
    "    num_embeddings, embedding_dim = weights_matrix.size()\n",
    "    emb_layer = nn.Embedding(num_embeddings, embedding_dim)\n",
    "    emb_layer.load_state_dict({'weight': weights_matrix})\n",
    "#     if non_trainable:\n",
    "#         emb_layer.weight.requires_grad = False\n",
    "    \n",
    "\n",
    "    return emb_layer, num_embeddings, embedding_dim"
   ]
  },
  {
   "cell_type": "code",
   "execution_count": 11,
   "metadata": {
    "collapsed": true
   },
   "outputs": [],
   "source": [
    "\n",
    "    \n",
    "class RNN(nn.Module):\n",
    "    def __init__(self, weights_matrix, hidden_size, num_layers, num_classes):\n",
    "        # RNN Accepts the following hyperparams:\n",
    "        # emb_size: Embedding Size\n",
    "        # hidden_size: Hidden Size of layer in RNN\n",
    "        # num_layers: number of layers in RNN\n",
    "        # num_classes: number of output classes\n",
    "        super(RNN, self).__init__()\n",
    "\n",
    "        self.num_layers, self.hidden_size = num_layers, hidden_size\n",
    "        #self.embedding = nn.Embedding(vocab_size, emb_size, padding_idx=PAD_IDX)\n",
    "        self.embedding, num_embeddings, embedding_dim = create_emb_layer(weights_matrix, True)\n",
    "        self.rnn = nn.GRU(embedding_dim, hidden_size, num_layers, batch_first=True, bidirectional = True) #dim1: batch dim2: sequence dim3: emb\n",
    "        self.linear1 = nn.Linear(hidden_size * 4, hidden_size * 4)\n",
    "        self.linear2 = nn.Linear(hidden_size * 2, num_classes)\n",
    "    def init_hidden(self, batch_size):\n",
    "        # Function initializes the activation of recurrent neural net at timestep 0\n",
    "        # Needs to be in format (num_layers, batch_size, hidden_size)\n",
    "        hidden = torch.randn(self.num_layers * 2, batch_size, self.hidden_size)\n",
    "\n",
    "        return hidden\n",
    "        \n",
    "    def forward(self, x1,x2):\n",
    "        # reset hidden state\n",
    "\n",
    "        batch_size, seq_len = x1.size()\n",
    "        \n",
    "        self.hidden = self.init_hidden(batch_size)\n",
    "\n",
    "        # get embedding of characters\n",
    "        #embed = self.embedding(x)\n",
    "        # pack padded sequence\n",
    "        #embed = torch.nn.utils.rnn.pack_padded_sequence(embed, lengths.numpy(), batch_first=True)\n",
    "        # fprop though RNN\n",
    "#         m1 = [mask_vocab[i] for i in x1]\n",
    "        embed1 = self.embedding(x1)\n",
    "        embed2 = self.embedding(x2)\n",
    "#         embed1 = m * e1 + (1-m) * e1.clone().detch()\n",
    "#         embed2 = m * e2 + (1-m) * e2.clone().detch()\n",
    "        rnn_out1, self.hidden1 = self.rnn(embed1, self.hidden) #batch_size * maximum sentence length * hidden_size\n",
    "        rnn_out2, self.hidden2 = self.rnn(embed2, self.hidden)\n",
    "        rnn_out1_last = rnn_out1[:,-1,:]   #batch_size * hidden_size\n",
    "        rnn_out2_last = rnn_out2[:,-1,:]\n",
    "        #print(rnn_out1.size())\n",
    "        rnn_out = torch.cat((rnn_out1_last, rnn_out2_last),1)  #batch_size * hidden_size*2\n",
    "        #rnn_out, _ = torch.nn.utils.rnn.pad_packed_sequence(rnn_out, batch_first=True)\n",
    "        linear_out1 = self.linear1(rnn_out)\n",
    "        logits = self.linear2(linear_out1)\n",
    "        # undo packing\n",
    "        #rnn_out, _ = torch.nn.utils.rnn.pad_packed_sequence(rnn_out, batch_first=True)\n",
    "        # sum hidden activations of RNN across time\n",
    "        #rnn_out = torch.sum(rnn_out, dim=1)\n",
    "        \n",
    "        #logits = self.linear(rnn_out)\n",
    "        return logits\n"
   ]
  },
  {
   "cell_type": "code",
   "execution_count": 12,
   "metadata": {
    "collapsed": true
   },
   "outputs": [],
   "source": [
    "#For the CNN, a 2-layer 1-D convolutional network with ReLU activations will suﬃce. \n",
    "#We can perforzm a max-pool at the end to compress the hidden representation into a single vector.\n",
    "class CNN(nn.Module):\n",
    "    def __init__(self, weights_matrix, hidden_size, kernel_size, num_classes):\n",
    "\n",
    "        super(CNN, self).__init__()\n",
    "\n",
    "        self.kernel_size, self.hidden_size = kernel_size, hidden_size\n",
    "        self.embedding, num_embeddings, embedding_dim = create_emb_layer(weights_matrix, True)\n",
    "\n",
    "        self.conv = nn.Sequential(nn.Conv1d(embedding_dim, hidden_size, kernel_size=kernel_size, padding=0),\n",
    "                                   nn.ReLU(),\n",
    "                                  nn.Conv1d(hidden_size, hidden_size, kernel_size=kernel_size, padding=0),\n",
    "                                   nn.ReLU())\n",
    "        self.linear1 = nn.Linear(hidden_size*2, hidden_size*2)\n",
    "        self.linear2 = nn.Linear(hidden_size*2, num_classes)\n",
    "    \n",
    "    def forward(self, x1, x2):\n",
    "        batch_size, seq_len = x1.size()\n",
    "\n",
    "        embed1 = self.embedding(x1).transpose(2,1) #batch_size * embedding dim * maximum_sentence_length \n",
    "        embed2 = self.embedding(x2).transpose(2,1)\n",
    "        #print('embed.size = ', embed1.size())\n",
    "        out_conv1 = self.conv(embed1)  #batch_size * embedding dim * maximum_sentence_length - 2*kernel_size + 2\n",
    "        out_conv2 = self.conv(embed2) \n",
    "        #print('out_conv1.size = ', out_conv1.size())\n",
    "        out_pool1, _ = torch.max(out_conv1,dim = 2)\n",
    "        out_pool2, _ = torch.max(out_conv2,dim = 2)\n",
    "        #\"print('out_pool1.size = ', out_pool1.size())\n",
    "        out_pool = torch.cat((out_pool1, out_pool2), dim = 1)\n",
    "        linear_out1 = self.linear1(out_pool)\n",
    "        logits = self.linear2(linear_out1)\n",
    "#         hidden = self.conv1(embed.transpose(1,2)).transpose(1,2)\n",
    "#         hidden = F.relu(hidden.contiguous().view(-1, hidden.size(-1))).view(batch_size, seq_len, hidden.size(-1))\n",
    "\n",
    "#         hidden = self.conv2(hidden.transpose(1,2)).transpose(1,2)\n",
    "#         hidden = F.relu(hidden.contiguous().view(-1, hidden.size(-1))).view(batch_size, seq_len, hidden.size(-1))\n",
    "\n",
    "#         hidden = torch.sum(hidden, dim=1)\n",
    "#         logits = self.linear(hidden)\n",
    "        return logits"
   ]
  },
  {
   "cell_type": "code",
   "execution_count": 14,
   "metadata": {
    "scrolled": true
   },
   "outputs": [
    {
     "name": "stdout",
     "output_type": "stream",
     "text": [
      " Epoch: [1/2], Step: [101/1000], Training loss: 1.0481, Validation Acc: 56.0\n",
      " Epoch: [1/2], Step: [201/1000], Training loss: 0.9741, Validation Acc: 61.5\n",
      " Epoch: [1/2], Step: [301/1000], Training loss: 0.9349, Validation Acc: 62.4\n",
      " Epoch: [1/2], Step: [401/1000], Training loss: 0.9107, Validation Acc: 64.3\n"
     ]
    },
    {
     "ename": "KeyboardInterrupt",
     "evalue": "",
     "output_type": "error",
     "traceback": [
      "\u001b[0;31m---------------------------------------------------------------------------\u001b[0m",
      "\u001b[0;31mKeyboardInterrupt\u001b[0m                         Traceback (most recent call last)",
      "\u001b[0;32m<ipython-input-14-8e87d4b12cca>\u001b[0m in \u001b[0;36m<module>\u001b[0;34m()\u001b[0m\n\u001b[1;32m     52\u001b[0m         \u001b[0;31m# Backward and optimize\u001b[0m\u001b[0;34m\u001b[0m\u001b[0;34m\u001b[0m\u001b[0m\n\u001b[1;32m     53\u001b[0m         \u001b[0mloss\u001b[0m\u001b[0;34m.\u001b[0m\u001b[0mbackward\u001b[0m\u001b[0;34m(\u001b[0m\u001b[0;34m)\u001b[0m\u001b[0;34m\u001b[0m\u001b[0m\n\u001b[0;32m---> 54\u001b[0;31m         \u001b[0moptimizer\u001b[0m\u001b[0;34m.\u001b[0m\u001b[0mstep\u001b[0m\u001b[0;34m(\u001b[0m\u001b[0;34m)\u001b[0m\u001b[0;34m\u001b[0m\u001b[0m\n\u001b[0m\u001b[1;32m     55\u001b[0m         \u001b[0;31m# validate every 100 iterations\u001b[0m\u001b[0;34m\u001b[0m\u001b[0;34m\u001b[0m\u001b[0m\n\u001b[1;32m     56\u001b[0m         \u001b[0;32mif\u001b[0m \u001b[0mi\u001b[0m \u001b[0;34m>\u001b[0m \u001b[0;36m0\u001b[0m \u001b[0;32mand\u001b[0m \u001b[0mi\u001b[0m \u001b[0;34m%\u001b[0m \u001b[0;36m100\u001b[0m \u001b[0;34m==\u001b[0m \u001b[0;36m0\u001b[0m\u001b[0;34m:\u001b[0m\u001b[0;34m\u001b[0m\u001b[0m\n",
      "\u001b[0;32m~/anaconda/lib/python3.5/site-packages/torch/optim/adam.py\u001b[0m in \u001b[0;36mstep\u001b[0;34m(self, closure)\u001b[0m\n\u001b[1;32m    104\u001b[0m                 \u001b[0mstep_size\u001b[0m \u001b[0;34m=\u001b[0m \u001b[0mgroup\u001b[0m\u001b[0;34m[\u001b[0m\u001b[0;34m'lr'\u001b[0m\u001b[0;34m]\u001b[0m \u001b[0;34m*\u001b[0m \u001b[0mmath\u001b[0m\u001b[0;34m.\u001b[0m\u001b[0msqrt\u001b[0m\u001b[0;34m(\u001b[0m\u001b[0mbias_correction2\u001b[0m\u001b[0;34m)\u001b[0m \u001b[0;34m/\u001b[0m \u001b[0mbias_correction1\u001b[0m\u001b[0;34m\u001b[0m\u001b[0m\n\u001b[1;32m    105\u001b[0m \u001b[0;34m\u001b[0m\u001b[0m\n\u001b[0;32m--> 106\u001b[0;31m                 \u001b[0mp\u001b[0m\u001b[0;34m.\u001b[0m\u001b[0mdata\u001b[0m\u001b[0;34m.\u001b[0m\u001b[0maddcdiv_\u001b[0m\u001b[0;34m(\u001b[0m\u001b[0;34m-\u001b[0m\u001b[0mstep_size\u001b[0m\u001b[0;34m,\u001b[0m \u001b[0mexp_avg\u001b[0m\u001b[0;34m,\u001b[0m \u001b[0mdenom\u001b[0m\u001b[0;34m)\u001b[0m\u001b[0;34m\u001b[0m\u001b[0m\n\u001b[0m\u001b[1;32m    107\u001b[0m \u001b[0;34m\u001b[0m\u001b[0m\n\u001b[1;32m    108\u001b[0m         \u001b[0;32mreturn\u001b[0m \u001b[0mloss\u001b[0m\u001b[0;34m\u001b[0m\u001b[0m\n",
      "\u001b[0;31mKeyboardInterrupt\u001b[0m: "
     ]
    }
   ],
   "source": [
    "kernel_size = 3\n",
    "learning_rate = 3e-4\n",
    "num_epochs = 2\n",
    "hidden_size = 200\n",
    "\n",
    "def test_model(loader, model):\n",
    "    \"\"\"\n",
    "    Help function that tests the model's performance on a dataset\n",
    "    @param: loader - data loader for the dataset to test against\n",
    "    \"\"\"\n",
    "    correct = 0\n",
    "    total = 0\n",
    "    model.eval()\n",
    "    for data1,data2,lengths1,length2,labels in loader:\n",
    "        data1_batch, data2_batch,lengths1_batch,lengths2_batch, label_batch = \\\n",
    "        data1.to(device),data2.to(device),lengths1,length2,labels.to(device)\n",
    "        outputs = F.softmax(model(data1_batch, data2_batch), dim=1)\n",
    "        #print('outputs.size = ', outputs.size())\n",
    "        predicted = outputs.max(1, keepdim=True)[1]\n",
    "\n",
    "        total += labels.size(0)\n",
    "        #print('labels.size = ', labels.size())\n",
    "        #print('predicted.size = ', predicted.size())\n",
    "        correct += predicted.eq(labels.view_as(predicted)).sum().item()\n",
    "#         print('correct = ', correct)\n",
    "#         print('total= ', total)\n",
    "    return (100 * correct / total)\n",
    "\n",
    "\n",
    "model = RNN(weights_matrix=loaded_embeddings_ft, hidden_size=hidden_size, num_layers=1, num_classes=3).to(device)\n",
    "model = CNN(weights_matrix=loaded_embeddings_ft, hidden_size=hidden_size, kernel_size=kernel_size, num_classes=3).to(device)\n",
    "\n",
    "\n",
    " # number epoch to train\n",
    "\n",
    "# Criterion and Optimizer\n",
    "criterion = torch.nn.CrossEntropyLoss()\n",
    "optimizer = torch.optim.Adam(model.parameters(), lr=learning_rate)\n",
    "\n",
    "# Train the model\n",
    "total_step = len(train_loader)\n",
    "\n",
    "for epoch in range(num_epochs):\n",
    "    losses = AverageMeter()\n",
    "    for i, (x1, x2, lengths1, lengths2, labels) in enumerate(train_loader):\n",
    "        x1, x2, labels = x1.to(device), x2.to(device), labels.to(device)\n",
    "        model.train()\n",
    "        optimizer.zero_grad()\n",
    "        # Forward pass\n",
    "        outputs = model(x1, x2)\n",
    "        loss = criterion(outputs, labels)\n",
    "        losses.update(loss, x1.size(0))\n",
    "        # Backward and optimize\n",
    "        loss.backward()\n",
    "        optimizer.step()\n",
    "        # validate every 100 iterations\n",
    "        if i > 0 and i % 100 == 0:\n",
    "            # validate\n",
    "            val_acc = test_model(val_loader, model)\n",
    "            print(' Epoch: [{}/{}], Step: [{}/{}], Training loss: {loss.avg:.4f}, Validation Acc: {}'.format(\n",
    "                       epoch+1, num_epochs, i+1, len(train_loader), val_acc, loss = losses))\n"
   ]
  },
  {
   "cell_type": "code",
   "execution_count": null,
   "metadata": {
    "collapsed": true
   },
   "outputs": [],
   "source": []
  },
  {
   "cell_type": "code",
   "execution_count": null,
   "metadata": {
    "collapsed": true
   },
   "outputs": [],
   "source": []
  },
  {
   "cell_type": "code",
   "execution_count": null,
   "metadata": {
    "collapsed": true
   },
   "outputs": [],
   "source": []
  },
  {
   "cell_type": "code",
   "execution_count": null,
   "metadata": {
    "collapsed": true
   },
   "outputs": [],
   "source": []
  },
  {
   "cell_type": "code",
   "execution_count": null,
   "metadata": {
    "collapsed": true
   },
   "outputs": [],
   "source": []
  },
  {
   "cell_type": "code",
   "execution_count": null,
   "metadata": {
    "collapsed": true
   },
   "outputs": [],
   "source": []
  },
  {
   "cell_type": "code",
   "execution_count": null,
   "metadata": {
    "collapsed": true
   },
   "outputs": [],
   "source": [
    "def label2onehot_helper(x):\n",
    "    if x == 0:\n",
    "        return np.array([1,0,0])\n",
    "    elif x == 1:\n",
    "        return np.array([0,1,0])\n",
    "    elif x == 2:\n",
    "        return np.array([0,0,1])\n",
    "def label2onehot(labels):\n",
    "    labels = labels.numpy()\n",
    "    output = np.zeros((len(labels), 3))\n",
    "    for i, x in enumerate(labels):\n",
    "        output[i] = label2onehot_helper(x)\n",
    "   # output = np.squeeze(output,axis = 1)\n",
    "    return torch.LongTensor(output)"
   ]
  }
 ],
 "metadata": {
  "anaconda-cloud": {},
  "kernelspec": {
   "display_name": "Python [conda env:anaconda]",
   "language": "python",
   "name": "conda-env-anaconda-py"
  },
  "language_info": {
   "codemirror_mode": {
    "name": "ipython",
    "version": 3
   },
   "file_extension": ".py",
   "mimetype": "text/x-python",
   "name": "python",
   "nbconvert_exporter": "python",
   "pygments_lexer": "ipython3",
   "version": "3.5.3"
  }
 },
 "nbformat": 4,
 "nbformat_minor": 1
}
